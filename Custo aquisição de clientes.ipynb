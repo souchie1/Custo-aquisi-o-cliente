{
 "cells": [
  {
   "cell_type": "code",
   "execution_count": null,
   "id": "0daadcf8",
   "metadata": {},
   "outputs": [],
   "source": [
    "import plotly.express as px\n",
    "import plotly.io as pio\n",
    "import plotly.graph_objects as go\n",
    "pio.templates.default = \"plotly_white\"\n",
    "import pandas as pd\n",
    "import numpy as np\n",
    "import seaborn as sns\n",
    "import matplotlib.pyplot as plt\n"
   ]
  },
  {
   "cell_type": "code",
   "execution_count": null,
   "id": "d1374220",
   "metadata": {},
   "outputs": [],
   "source": [
    "df = pd.read_csv('customer_acquisition_cost_dataset.csv')\n",
    "df.head()"
   ]
  },
  {
   "cell_type": "code",
   "execution_count": null,
   "id": "3bbdb991",
   "metadata": {},
   "outputs": [],
   "source": [
    "df.tail()"
   ]
  },
  {
   "cell_type": "code",
   "execution_count": null,
   "id": "6e9a81b1",
   "metadata": {},
   "outputs": [],
   "source": [
    "df.shape"
   ]
  },
  {
   "cell_type": "code",
   "execution_count": null,
   "id": "c231a74e",
   "metadata": {
    "scrolled": true
   },
   "outputs": [],
   "source": [
    "# Traduzindo e renomeando as colunas\n",
    "novo_nome_colunas = {\n",
    "    'Customer_ID': 'ID_do_Cliente',\n",
    "    'Marketing_Channel': 'Canal_de_Marketing',\n",
    "    'Marketing_Spend': 'Despesa_de_Marketing',\n",
    "    'New_Customers': 'Novos_Clientes'\n",
    "}\n",
    "\n",
    "df = df.rename(columns=novo_nome_colunas)\n",
    "# Definindo a coluna 'ID_do_Cliente' como índice\n",
    "df.set_index('ID_do_Cliente', inplace=True)\n",
    "\n",
    "\n",
    "df"
   ]
  },
  {
   "cell_type": "code",
   "execution_count": null,
   "id": "14ed1cc1",
   "metadata": {},
   "outputs": [],
   "source": []
  },
  {
   "cell_type": "code",
   "execution_count": null,
   "id": "a321fccf",
   "metadata": {},
   "outputs": [],
   "source": [
    "df.isnull().sum()"
   ]
  },
  {
   "cell_type": "code",
   "execution_count": null,
   "id": "3c4f12b8",
   "metadata": {},
   "outputs": [],
   "source": [
    "df.info()"
   ]
  },
  {
   "cell_type": "code",
   "execution_count": null,
   "id": "ae206c3c",
   "metadata": {},
   "outputs": [],
   "source": [
    "df.describe()"
   ]
  },
  {
   "cell_type": "code",
   "execution_count": null,
   "id": "21684885",
   "metadata": {},
   "outputs": [],
   "source": [
    "# Agrupar por canal de marketing e calcular a soma de novos clientes para cada canal\n",
    "novos_clientes_por_canal = df.groupby('Canal_de_Marketing')['Novos_Clientes'].sum()\n",
    "\n",
    "# Classificar os canais com base no número de novos clientes em ordem decrescente\n",
    "novos_clientes_por_canal = novos_clientes_por_canal.sort_values(ascending=False)\n",
    "\n",
    "# Plotar o gráfico de barras\n",
    "novos_clientes_por_canal.plot(kind='bar', color='skyblue', alpha=0.7)\n",
    "\n",
    "# Adicionar rótulos e título\n",
    "plt.xlabel('Canal de Marketing')\n",
    "plt.ylabel('Número de Novos Clientes')\n",
    "plt.title('Número de Novos Clientes por Canal de Marketing')\n",
    "\n",
    "# Mostrar o gráfico\n",
    "plt.show()"
   ]
  },
  {
   "cell_type": "code",
   "execution_count": null,
   "id": "610c318f",
   "metadata": {},
   "outputs": [],
   "source": [
    "# Calcular o custo por novo cliente para cada canal de marketing\n",
    "df['Custo_por_Novo_Cliente'] = df['Despesa_de_Marketing'] / df['Novos_Clientes']\n",
    "df"
   ]
  },
  {
   "cell_type": "code",
   "execution_count": null,
   "id": "196ef491",
   "metadata": {},
   "outputs": [],
   "source": [
    "df['Canal_de_Marketing'].unique()"
   ]
  },
  {
   "cell_type": "code",
   "execution_count": null,
   "id": "ff537916",
   "metadata": {},
   "outputs": [],
   "source": [
    "# Calcular o custo por novo cliente para cada canal de marketing\n",
    "df['Custo_por_Novo_Cliente'] = df['Despesa_de_Marketing'] / df['Novos_Clientes']\n",
    "\n",
    "# Criar um novo DataFrame agrupado por canal de marketing\n",
    "custo_por_canal = df.groupby('Canal_de_Marketing')['Custo_por_Novo_Cliente'].mean()\n",
    "\n",
    "# Reordenar o DataFrame de acordo com a ordem especificada\n",
    "canais_ordem_especificada = ['Email Marketing', 'Online Ads', 'Social Media', 'Referral']\n",
    "custo_por_canal = custo_por_canal.reindex(canais_ordem_especificada)\n",
    "\n",
    "# Plotar o gráfico de barras\n",
    "custo_por_canal.plot(kind='bar', color='skyblue', alpha=0.7)\n",
    "\n",
    "# Adicionar rótulos e título\n",
    "plt.xlabel('Canal de Marketing')\n",
    "plt.ylabel('Custo por Novo Cliente')\n",
    "plt.title('Custo por Novo Cliente por Canal de Marketing')\n",
    "\n",
    "# Mostrar o gráfico\n",
    "plt.show()"
   ]
  },
  {
   "cell_type": "code",
   "execution_count": null,
   "id": "2d2d6a3e",
   "metadata": {},
   "outputs": [],
   "source": [
    "# Plotar o número de novos clientes ao longo do tempo\n",
    "plt.figure(figsize=(10, 6))\n",
    "plt.plot(df.index, df['Novos_Clientes'], marker='o', color='skyblue', label='Novos Clientes')\n",
    "plt.title('Número de Novos Clientes ao Longo do Tempo')\n",
    "plt.xlabel('Data')\n",
    "plt.ylabel('Número de Novos Clientes')\n",
    "plt.legend()\n",
    "plt.grid(True)\n",
    "plt.show()\n",
    "\n",
    "# Plotar os gastos de marketing ao longo do tempo\n",
    "plt.figure(figsize=(10, 6))\n",
    "plt.plot(df.index, df['Despesa_de_Marketing'], marker='o', color='orange', label='Despesa de Marketing')\n",
    "plt.title('Despesa de Marketing ao Longo do Tempo')\n",
    "plt.xlabel('Data')\n",
    "plt.ylabel('Despesa de Marketing')\n",
    "plt.legend()\n",
    "plt.grid(True)\n",
    "plt.show()"
   ]
  },
  {
   "cell_type": "code",
   "execution_count": null,
   "id": "9815261d",
   "metadata": {},
   "outputs": [],
   "source": [
    "# Calcular o CAC (Custo de Aquisição de Cliente) para cada canal de marketing\n",
    "df['CAC'] = df['Despesa_de_Marketing'] / df['Novos_Clientes']\n",
    "\n",
    "# Plotar o desempenho de cada canal de marketing em relação ao CAC\n",
    "plt.figure(figsize=(10, 6))\n",
    "sns.scatterplot(data=df, x='CAC', y='Novos_Clientes', hue='Canal_de_Marketing')\n",
    "plt.title('Novos Clientes vs. CAC por Canal de Marketing')\n",
    "plt.xlabel('CAC (Custo de Aquisição de Cliente)')\n",
    "plt.ylabel('Número de Novos Clientes')\n",
    "plt.legend(title='Canal de Marketing')\n",
    "plt.grid(True)\n",
    "plt.show()"
   ]
  },
  {
   "cell_type": "code",
   "execution_count": null,
   "id": "684d99b7",
   "metadata": {},
   "outputs": [],
   "source": [
    "# Calcular o CAC (Custo de Aquisição de Cliente) para cada canal de marketing\n",
    "df['CAC'] = df['Despesa_de_Marketing'] / df['Novos_Clientes']\n",
    "\n",
    "# Identificar segmentos que respondem melhor a determinados canais de marketing\n",
    "# e que tenham um custo de aquisição de cliente mais baixo\n",
    "plt.figure(figsize=(12, 6))\n",
    "\n",
    "# Comparação do CAC entre os canais de marketing\n",
    "sns.boxplot(data=df, x='Canal_de_Marketing', y='CAC')\n",
    "plt.title('Comparação do CAC entre os Canais de Marketing')\n",
    "plt.xlabel('Canal de Marketing')\n",
    "plt.ylabel('CAC (Custo de Aquisição de Cliente)')\n",
    "\n",
    "plt.show()"
   ]
  },
  {
   "cell_type": "code",
   "execution_count": null,
   "id": "cb155cc9",
   "metadata": {},
   "outputs": [],
   "source": [
    "# Calcular a correlação entre as despesas de marketing e o número de novos clientes\n",
    "correlation = df['Despesa_de_Marketing'].corr(df['Novos_Clientes'])\n",
    "\n",
    "# Plotar o gráfico de dispersão\n",
    "plt.figure(figsize=(8, 6))\n",
    "sns.scatterplot(x='Despesa_de_Marketing', y='Novos_Clientes', data=df)\n",
    "plt.title('Despesa de Marketing vs. Número de Novos Clientes')\n",
    "plt.xlabel('Despesa de Marketing')\n",
    "plt.ylabel('Número de Novos Clientes')\n",
    "\n",
    "# Adicionar o coeficiente de correlação ao gráfico\n",
    "plt.text(1300, 75, f'Correlação: {correlation:.2f}', fontsize=12, bbox=dict(facecolor='lightblue', alpha=0.5))\n",
    "\n",
    "plt.show()"
   ]
  },
  {
   "cell_type": "code",
   "execution_count": null,
   "id": "6bb25132",
   "metadata": {},
   "outputs": [],
   "source": [
    "# Calcular a correlação entre as despesas de marketing e o número de novos clientes para cada canal\n",
    "correlation_per_channel = df.groupby('Canal_de_Marketing').apply(lambda x: x['Despesa_de_Marketing'].corr(x['Novos_Clientes']))\n",
    "\n",
    "# Plotar o gráfico de barras das correlações por canal de marketing\n",
    "plt.figure(figsize=(10, 6))\n",
    "sns.barplot(x=correlation_per_channel.index, y=correlation_per_channel.values)\n",
    "plt.title('Correlação entre Despesa de Marketing e Novos Clientes por Canal de Marketing')\n",
    "plt.xlabel('Canal de Marketing')\n",
    "plt.ylabel('Correlação')\n",
    "\n",
    "plt.show()"
   ]
  },
  {
   "cell_type": "code",
   "execution_count": null,
   "id": "0ef57dda",
   "metadata": {},
   "outputs": [],
   "source": [
    "# Calcular a taxa de conversão para cada tipo de canal de marketing\n",
    "df['Taxa_de_Conversao'] = (df['Novos_Clientes'] / df['Despesa_de_Marketing']) * 100\n",
    "df"
   ]
  },
  {
   "cell_type": "code",
   "execution_count": null,
   "id": "da4bac3d",
   "metadata": {},
   "outputs": [],
   "source": [
    "# Plotar o gráfico de barras\n",
    "fig = px.bar(df, x='Canal_de_Marketing', y='Taxa_de_Conversao', \n",
    "             title='Taxa de Conversão por Canal de Marketing',\n",
    "             labels={'Canal_de_Marketing': 'Canal de Marketing', 'Taxa_de_Conversao': 'Taxa de Conversão'})\n",
    "fig.show()"
   ]
  },
  {
   "cell_type": "code",
   "execution_count": null,
   "id": "587c37d2",
   "metadata": {},
   "outputs": [],
   "source": [
    "# Calcular o custo por novo cliente para cada canal de marketing\n",
    "df['Custo_por_Novo_Cliente'] = df['Despesa_de_Marketing'] / df['Novos_Clientes']\n",
    "\n",
    "# Calcular o ponto de equilíbrio dos clientes para cada canal de marketing\n",
    "df['Ponto_de_Equilibrio'] = df['Despesa_de_Marketing'] / df['Custo_por_Novo_Cliente']\n",
    "print(df[['Canal_de_Marketing', 'Ponto_de_Equilibrio']])"
   ]
  },
  {
   "cell_type": "code",
   "execution_count": null,
   "id": "4b3f627a",
   "metadata": {},
   "outputs": [],
   "source": [
    "# Plotar o gráfico de barras\n",
    "fig = px.bar(df, x='Canal_de_Marketing', \n",
    "             y='Ponto_de_Equilibrio', \n",
    "             title='Clientes de Equilíbrio por Canal de Marketing')\n",
    "fig.show()"
   ]
  },
  {
   "cell_type": "code",
   "execution_count": null,
   "id": "ff02fcc7",
   "metadata": {},
   "outputs": [],
   "source": [
    "import matplotlib.pyplot as plt\n",
    "\n",
    "# Plotar o gráfico de barras\n",
    "plt.figure(figsize=(10, 6))\n",
    "bar_width = 0.35\n",
    "index = range(len(df))\n",
    "\n",
    "plt.bar(index, df['Novos_Clientes'], bar_width, label='Clientes Reais')\n",
    "plt.bar([i + bar_width for i in index], df['Ponto_de_Equilibrio'], bar_width, label='Ponto de Equilíbrio')\n",
    "\n",
    "plt.xlabel('Canal de Marketing')\n",
    "plt.ylabel('Número de Clientes')\n",
    "plt.title('Comparação entre Clientes Reais e Ponto de Equilíbrio por Canal de Marketing')\n",
    "plt.legend()\n",
    "\n",
    "plt.show()\n"
   ]
  },
  {
   "cell_type": "code",
   "execution_count": null,
   "id": "497378d9",
   "metadata": {},
   "outputs": [],
   "source": [
    "import plotly.graph_objects as go\n",
    "\n",
    "# Criar o gráfico de barras\n",
    "fig = go.Figure()\n",
    "\n",
    "# Adicionar os clientes reais adquiridos\n",
    "fig.add_trace(go.Bar(x=df['Canal_de_Marketing'], y=df['Novos_Clientes'],\n",
    "                     name='Clientes Reais Adquiridos', marker_color='royalblue'))\n",
    "\n",
    "# Adicionar os clientes de ponto de equilíbrio\n",
    "fig.add_trace(go.Bar(x=df['Canal_de_Marketing'], y=df['Ponto_de_Equilibrio'],\n",
    "                     name='Clientes de Ponto de Equilíbrio', marker_color='lightcoral'))\n",
    "\n",
    "# Atualizar o layout\n",
    "fig.update_layout(barmode='group', title='Clientes Reais vs. Ponto de Equilíbrio por Canal de Marketing',\n",
    "                  xaxis_title='Canal de Marketing', yaxis_title='Número de Clientes')\n",
    "\n",
    "# Mostrar o gráfico\n",
    "fig.show()\n"
   ]
  },
  {
   "cell_type": "code",
   "execution_count": null,
   "id": "2e8438fa",
   "metadata": {},
   "outputs": [],
   "source": [
    "# Calcular o custo médio por novo cliente para cada canal de marketing\n",
    "df['Custo_Medio_por_Novo_Cliente'] = df['Despesa_de_Marketing'] / df['Novos_Clientes']\n",
    "\n",
    "# Encontrar o canal com o menor custo médio por novo cliente\n",
    "canal_menor_custo = df.loc[df['Custo_Medio_por_Novo_Cliente'].idxmin()]\n",
    "\n",
    "print(\"O canal com o menor custo médio por novo cliente é:\", canal_menor_custo['Canal_de_Marketing'])\n"
   ]
  },
  {
   "cell_type": "code",
   "execution_count": null,
   "id": "78e8f79d",
   "metadata": {},
   "outputs": [],
   "source": []
  }
 ],
 "metadata": {
  "kernelspec": {
   "display_name": "Python 3 (ipykernel)",
   "language": "python",
   "name": "python3"
  },
  "language_info": {
   "codemirror_mode": {
    "name": "ipython",
    "version": 3
   },
   "file_extension": ".py",
   "mimetype": "text/x-python",
   "name": "python",
   "nbconvert_exporter": "python",
   "pygments_lexer": "ipython3",
   "version": "3.11.5"
  }
 },
 "nbformat": 4,
 "nbformat_minor": 5
}
